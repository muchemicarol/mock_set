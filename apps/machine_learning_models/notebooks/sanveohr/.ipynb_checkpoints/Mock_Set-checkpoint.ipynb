{
 "cells": [
  {
   "cell_type": "code",
   "execution_count": 115,
   "metadata": {},
   "outputs": [],
   "source": [
    "import re\n",
    "import string\n",
    "\n",
    "import nltk\n",
    "import pandas as pd\n",
    "from sklearn.feature_extraction.text import CountVectorizer"
   ]
  },
  {
   "cell_type": "code",
   "execution_count": 116,
   "metadata": {},
   "outputs": [],
   "source": [
    "mock_data = pd.read_excel(\"Mock Data Set_12-09-20.xlsx\", sheet_name=\"Input 1_Conduit Data\")"
   ]
  },
  {
   "cell_type": "code",
   "execution_count": 117,
   "metadata": {},
   "outputs": [],
   "source": [
    "mock_data.columns = mock_data.iloc[0]\n",
    "mock_data = mock_data.drop(0)"
   ]
  },
  {
   "cell_type": "code",
   "execution_count": 118,
   "metadata": {},
   "outputs": [
    {
     "data": {
      "text/html": [
       "<div>\n",
       "<style scoped>\n",
       "    .dataframe tbody tr th:only-of-type {\n",
       "        vertical-align: middle;\n",
       "    }\n",
       "\n",
       "    .dataframe tbody tr th {\n",
       "        vertical-align: top;\n",
       "    }\n",
       "\n",
       "    .dataframe thead th {\n",
       "        text-align: right;\n",
       "    }\n",
       "</style>\n",
       "<table border=\"1\" class=\"dataframe\">\n",
       "  <thead>\n",
       "    <tr style=\"text-align: right;\">\n",
       "      <th></th>\n",
       "      <th>Short Desc</th>\n",
       "      <th>Long Desc</th>\n",
       "      <th>Size</th>\n",
       "      <th>Length</th>\n",
       "      <th>Material</th>\n",
       "    </tr>\n",
       "  </thead>\n",
       "  <tbody>\n",
       "    <tr>\n",
       "      <th>1</th>\n",
       "      <td>Metallic Liquidtight Conduit, Flexible, LA, Ga...</td>\n",
       "      <td>\\r\\nType LA\\r\\n</td>\n",
       "      <td>2-1/2 in.</td>\n",
       "      <td>100 ft.</td>\n",
       "      <td>PVC Coated Galvanized Steel</td>\n",
       "    </tr>\n",
       "    <tr>\n",
       "      <th>2</th>\n",
       "      <td>Metallic Liquidtight Conduit, Flexible, Stainl...</td>\n",
       "      <td>\\nMetallic Liquidtight Conduit, Flexible, Stai...</td>\n",
       "      <td>2 in.</td>\n",
       "      <td>25 ft.</td>\n",
       "      <td>stainless steel</td>\n",
       "    </tr>\n",
       "    <tr>\n",
       "      <th>3</th>\n",
       "      <td>Steel Conduit Hot-Dippedâ Galvanizedâ Steel (I...</td>\n",
       "      <td>\\n1/2 in. PVC-coated galvanized steel type ATL...</td>\n",
       "      <td>1/2 in.</td>\n",
       "      <td>1000 ft.</td>\n",
       "      <td>PVC Coated Galvanized Steel</td>\n",
       "    </tr>\n",
       "    <tr>\n",
       "      <th>4</th>\n",
       "      <td>Metallic Liquidtight Conduit, Flexible, MTC, G...</td>\n",
       "      <td>\\r\\nType MTC - Machine Tool Conduit Liquid-Tig...</td>\n",
       "      <td>2 in.</td>\n",
       "      <td>50 ft.</td>\n",
       "      <td>PVC Coated Galvanized Steel</td>\n",
       "    </tr>\n",
       "    <tr>\n",
       "      <th>5</th>\n",
       "      <td>Metallic Liquidtight Conduit, Flexible, CEA, P...</td>\n",
       "      <td>\\r\\nType CEA\\r\\n</td>\n",
       "      <td>3/4 in.</td>\n",
       "      <td>100 ft.</td>\n",
       "      <td>PVC Coated Galvanized Steel</td>\n",
       "    </tr>\n",
       "  </tbody>\n",
       "</table>\n",
       "</div>"
      ],
      "text/plain": [
       "0                                         Short Desc  \\\n",
       "1  Metallic Liquidtight Conduit, Flexible, LA, Ga...   \n",
       "2  Metallic Liquidtight Conduit, Flexible, Stainl...   \n",
       "3  Steel Conduit Hot-Dippedâ Galvanizedâ Steel (I...   \n",
       "4  Metallic Liquidtight Conduit, Flexible, MTC, G...   \n",
       "5  Metallic Liquidtight Conduit, Flexible, CEA, P...   \n",
       "\n",
       "0                                          Long Desc       Size    Length  \\\n",
       "1                                    \\r\\nType LA\\r\\n  2-1/2 in.   100 ft.   \n",
       "2  \\nMetallic Liquidtight Conduit, Flexible, Stai...      2 in.    25 ft.   \n",
       "3  \\n1/2 in. PVC-coated galvanized steel type ATL...    1/2 in.  1000 ft.   \n",
       "4  \\r\\nType MTC - Machine Tool Conduit Liquid-Tig...      2 in.    50 ft.   \n",
       "5                                   \\r\\nType CEA\\r\\n    3/4 in.   100 ft.   \n",
       "\n",
       "0                     Material  \n",
       "1  PVC Coated Galvanized Steel  \n",
       "2              stainless steel  \n",
       "3  PVC Coated Galvanized Steel  \n",
       "4  PVC Coated Galvanized Steel  \n",
       "5  PVC Coated Galvanized Steel  "
      ]
     },
     "execution_count": 118,
     "metadata": {},
     "output_type": "execute_result"
    }
   ],
   "source": [
    "mock_data = mock_data[[\"Short Desc\", \"Long Desc\", \"Size\", \"Length\", \"Material\"]]\n",
    "mock_data.head()"
   ]
  },
  {
   "cell_type": "code",
   "execution_count": 128,
   "metadata": {},
   "outputs": [
    {
     "data": {
      "text/plain": [
       "Index(['short_desc', 'long_desc', 'size', 'length', 'material'], dtype='object', name=0)"
      ]
     },
     "execution_count": 128,
     "metadata": {},
     "output_type": "execute_result"
    }
   ],
   "source": [
    "# rename the columns \n",
    "mock_data.columns = mock_data.columns.str.lower().str.replace(\" \", \"_\")\n",
    "mock_data.columns"
   ]
  },
  {
   "cell_type": "code",
   "execution_count": 129,
   "metadata": {},
   "outputs": [
    {
     "data": {
      "text/plain": [
       "(253, 5)"
      ]
     },
     "execution_count": 129,
     "metadata": {},
     "output_type": "execute_result"
    }
   ],
   "source": [
    "mock_data.shape"
   ]
  },
  {
   "cell_type": "markdown",
   "metadata": {},
   "source": [
    "## Clean up the data"
   ]
  },
  {
   "cell_type": "code",
   "execution_count": 130,
   "metadata": {},
   "outputs": [
    {
     "data": {
      "text/plain": [
       "0\n",
       "short_desc    1\n",
       "long_desc     2\n",
       "size          2\n",
       "length        2\n",
       "material      2\n",
       "dtype: int64"
      ]
     },
     "execution_count": 130,
     "metadata": {},
     "output_type": "execute_result"
    }
   ],
   "source": [
    "# Check for missing values\n",
    "mock_data.isnull().sum()"
   ]
  },
  {
   "cell_type": "code",
   "execution_count": 131,
   "metadata": {},
   "outputs": [],
   "source": [
    "mock_data.dropna(inplace=True)"
   ]
  },
  {
   "cell_type": "code",
   "execution_count": 132,
   "metadata": {},
   "outputs": [
    {
     "data": {
      "text/plain": [
       "0\n",
       "short_desc    0\n",
       "long_desc     0\n",
       "size          0\n",
       "length        0\n",
       "material      0\n",
       "dtype: int64"
      ]
     },
     "execution_count": 132,
     "metadata": {},
     "output_type": "execute_result"
    }
   ],
   "source": [
    "mock_data.isnull().sum()"
   ]
  },
  {
   "cell_type": "markdown",
   "metadata": {},
   "source": [
    "## Preprocessing Data and Feature Selection"
   ]
  },
  {
   "cell_type": "code",
   "execution_count": 133,
   "metadata": {},
   "outputs": [],
   "source": [
    "def clean_text(text):\n",
    "    text = \"\".join(word for word in str(text) if word not in string.punctuation)\n",
    "    tokens = re.split(\"\\W+\", text)\n",
    "    lemmatized = [word_net.lemmatize(word) for word in tokens if word not in stopwords]\n",
    "    return lemmatized"
   ]
  },
  {
   "cell_type": "code",
   "execution_count": 146,
   "metadata": {},
   "outputs": [],
   "source": [
    "count_vector = CountVectorizer(analyzer=clean_text)\n",
    "count_vector_ = CountVectorizer(analyzer=clean_text)\n",
    "count_vector__ = CountVectorizer(analyzer=clean_text)\n",
    "\n",
    "vector = count_vector.fit_transform(mock_data[\"short_desc\"])\n",
    "vector_ = count_vector_.fit_transform(mock_data[\"long_desc\"])\n",
    "vector__ = count_vector__.fit_transform(mock_data[\"material\"])"
   ]
  },
  {
   "cell_type": "code",
   "execution_count": 149,
   "metadata": {},
   "outputs": [],
   "source": [
    "short_desc_df = pd.DataFrame(vector.toarray(), columns = count_vector.get_feature_names())"
   ]
  },
  {
   "cell_type": "code",
   "execution_count": 151,
   "metadata": {},
   "outputs": [
    {
     "data": {
      "text/plain": [
       "Index(['', '0', '061', '0622', '0642', '065', '074', '0755', '0785', '084',\n",
       "       ...\n",
       "       'ftReel', 'inCut', 'inch', 'inx', 'lb', 'length', 'liquatite', 'mm',\n",
       "       'tape', 'x'],\n",
       "      dtype='object', length=274)"
      ]
     },
     "execution_count": 151,
     "metadata": {},
     "output_type": "execute_result"
    }
   ],
   "source": [
    "short_desc_df.columns"
   ]
  },
  {
   "cell_type": "code",
   "execution_count": null,
   "metadata": {},
   "outputs": [],
   "source": []
  },
  {
   "cell_type": "code",
   "execution_count": null,
   "metadata": {},
   "outputs": [],
   "source": []
  }
 ],
 "metadata": {
  "kernelspec": {
   "display_name": "Python 3",
   "language": "python",
   "name": "python3"
  },
  "language_info": {
   "codemirror_mode": {
    "name": "ipython",
    "version": 3
   },
   "file_extension": ".py",
   "mimetype": "text/x-python",
   "name": "python",
   "nbconvert_exporter": "python",
   "pygments_lexer": "ipython3",
   "version": "3.8.5"
  }
 },
 "nbformat": 4,
 "nbformat_minor": 4
}
